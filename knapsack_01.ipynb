{
 "cells": [
  {
   "cell_type": "code",
   "execution_count": 3,
   "id": "fe5e192a",
   "metadata": {},
   "outputs": [],
   "source": [
    "# Time complexity: O(n^2)\n",
    "# Space complexity: O(1)\n",
    "\n",
    "class Solution:\n",
    "    def knapsack(self, capacity, profit, weights, n):\n",
    "        return self._helper(capacity, profit, weights, n, 0, 0)\n",
    "        \n",
    "    def _helper(self, remaining_capacity, profit, weights, n, i, max_profit):\n",
    "        # base case\n",
    "        if i>=n or remaining_capacity ==0:\n",
    "            return max_profit\n",
    "        \n",
    "        # logic\n",
    "        if weights[i] > remaining_capacity:\n",
    "            return self._helper(remaining_capacity, profit, weights, n, i+1, max_profit)\n",
    "        \n",
    "        # choose\n",
    "        choose = self._helper(remaining_capacity-weights[i], profit, weights, n, i+1, max_profit+profit[i])\n",
    "        \n",
    "        # not choose\n",
    "        not_choose = self._helper(remaining_capacity, profit, weights, n, i+1, max_profit)\n",
    "        \n",
    "        return max(choose, not_choose)\n",
    "    \n",
    "        "
   ]
  },
  {
   "cell_type": "code",
   "execution_count": 4,
   "id": "902a561c",
   "metadata": {},
   "outputs": [
    {
     "name": "stdout",
     "output_type": "stream",
     "text": [
      "220\n"
     ]
    }
   ],
   "source": [
    "obj= Solution()\n",
    "capacity=50\n",
    "profit=[60,100,120]\n",
    "weights=[10,20,30]\n",
    "n=3\n",
    "print(obj.knapsack(capacity, profit, weights, n))"
   ]
  },
  {
   "cell_type": "code",
   "execution_count": null,
   "id": "4cacb60d",
   "metadata": {},
   "outputs": [],
   "source": []
  }
 ],
 "metadata": {
  "kernelspec": {
   "display_name": "Python 3",
   "language": "python",
   "name": "python3"
  },
  "language_info": {
   "codemirror_mode": {
    "name": "ipython",
    "version": 3
   },
   "file_extension": ".py",
   "mimetype": "text/x-python",
   "name": "python",
   "nbconvert_exporter": "python",
   "pygments_lexer": "ipython3",
   "version": "3.8.8"
  }
 },
 "nbformat": 4,
 "nbformat_minor": 5
}
